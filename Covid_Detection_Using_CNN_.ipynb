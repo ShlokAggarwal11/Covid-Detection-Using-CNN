{
  "nbformat": 4,
  "nbformat_minor": 0,
  "metadata": {
    "colab": {
      "provenance": [],
      "include_colab_link": true
    },
    "kernelspec": {
      "name": "python3",
      "display_name": "Python 3"
    },
    "language_info": {
      "name": "python"
    }
  },
  "cells": [
    {
      "cell_type": "markdown",
      "metadata": {
        "id": "view-in-github",
        "colab_type": "text"
      },
      "source": [
        "<a href=\"https://colab.research.google.com/github/ShlokAggarwal11/Covid-Detection-Using-CNN/blob/main/Covid_Detection_Using_CNN_.ipynb\" target=\"_parent\"><img src=\"https://colab.research.google.com/assets/colab-badge.svg\" alt=\"Open In Colab\"/></a>"
      ]
    },
    {
      "cell_type": "markdown",
      "source": [
        "#imports\n"
      ],
      "metadata": {
        "id": "LUO_ZoRrHkFX"
      }
    },
    {
      "cell_type": "markdown",
      "source": [
        "# New Section"
      ],
      "metadata": {
        "id": "S6F8B1HrRfDM"
      }
    },
    {
      "cell_type": "code",
      "execution_count": null,
      "metadata": {
        "id": "JH-RpmOzDGJ8"
      },
      "outputs": [],
      "source": [
        "import numpy as np\n",
        "import matplotlib.pyplot as plt\n",
        "\n",
        "import keras\n",
        "from keras.layers import Dense, Conv2D, MaxPool2D, Dropout, Flatten\n",
        "from keras.models import Sequential\n",
        "from keras.preprocessing import image\n"
      ]
    },
    {
      "cell_type": "markdown",
      "source": [
        "#Load_Data"
      ],
      "metadata": {
        "id": "Aor7nkWJHo9V"
      }
    },
    {
      "cell_type": "code",
      "source": [
        "train_datagen = image.ImageDataGenerator(\n",
        "    rescale =1/255, horizontal_flip = True, zoom_range=0.2, shear_range= 0.2\n",
        ")\n",
        "\n",
        "train_data = train_datagen.flow_from_directory(directory= \"/content/CovidDataset/Train\", target_size= (256,256), batch_size =16,\n",
        "                                               class_mode = 'binary')"
      ],
      "metadata": {
        "colab": {
          "base_uri": "https://localhost:8080/"
        },
        "id": "4JTSxRWSDJxd",
        "outputId": "e76e6ff0-e342-4396-d5eb-f791faa79f7e"
      },
      "execution_count": null,
      "outputs": [
        {
          "output_type": "stream",
          "name": "stdout",
          "text": [
            "Found 148 images belonging to 3 classes.\n"
          ]
        }
      ]
    },
    {
      "cell_type": "code",
      "source": [
        "train_data.class_indices"
      ],
      "metadata": {
        "colab": {
          "base_uri": "https://localhost:8080/"
        },
        "id": "zum2ogNVGpDH",
        "outputId": "8659e289-582d-4197-fa69-57cb6c2eb829"
      },
      "execution_count": null,
      "outputs": [
        {
          "output_type": "execute_result",
          "data": {
            "text/plain": [
              "{'.ipynb_checkpoints': 0, 'Covid': 1, 'Normal ': 2}"
            ]
          },
          "metadata": {},
          "execution_count": 5
        }
      ]
    },
    {
      "cell_type": "code",
      "source": [
        "test_datagen = image.ImageDataGenerator(\n",
        "    rescale =1/255\n",
        "    )\n",
        "\n",
        "test_data = test_datagen.flow_from_directory(directory= \"/content/CovidDataset/Test\", target_size= (256,256), batch_size =16,\n",
        "                                               class_mode = 'binary')"
      ],
      "metadata": {
        "colab": {
          "base_uri": "https://localhost:8080/"
        },
        "id": "32TDk4JrHA1_",
        "outputId": "f0dd158d-447d-46da-88d0-5182489b6a1b"
      },
      "execution_count": null,
      "outputs": [
        {
          "output_type": "stream",
          "name": "stdout",
          "text": [
            "Found 40 images belonging to 3 classes.\n"
          ]
        }
      ]
    },
    {
      "cell_type": "markdown",
      "source": [
        "#CNN Model\n"
      ],
      "metadata": {
        "id": "g4FuqYaZHyy6"
      }
    },
    {
      "cell_type": "markdown",
      "source": [
        "# New Section"
      ],
      "metadata": {
        "id": "72SVJcQKmutb"
      }
    },
    {
      "cell_type": "code",
      "source": [
        "model = Sequential()\n",
        "\n",
        "model.add(Conv2D(filters= 32, kernel_size=(3,3), activation='relu', input_shape= (256,256,3)))\n",
        "\n",
        "model.add(Conv2D(filters= 64, kernel_size=(3,3), activation='relu'))\n",
        "model.add(MaxPool2D())\n",
        "model.add(Dropout(rate=0.25))\n",
        "\n",
        "model.add(Conv2D(filters= 64, kernel_size=(3,3), activation='relu'))\n",
        "model.add(MaxPool2D())\n",
        "model.add(Dropout(rate=0.25))\n",
        "\n",
        "model.add(Conv2D(filters= 128, kernel_size=(3,3), activation='relu'))\n",
        "model.add(MaxPool2D())\n",
        "model.add(Dropout(rate=0.25))\n",
        "\n",
        "model.add(Flatten())\n",
        "model.add(Dense(units =64, activation= 'relu'))\n",
        "model.add(Dropout(rate=0.50))\n",
        "model.add(Dense(units =1, activation = 'sigmoid'))\n",
        "\n",
        "model.compile(loss= keras.losses.binary_crossentropy, optimizer= 'adam', metrics = ['acc'])\n",
        "\n",
        "\n"
      ],
      "metadata": {
        "id": "DmOQc_AlHyUW"
      },
      "execution_count": null,
      "outputs": []
    },
    {
      "cell_type": "code",
      "source": [
        "model.summary()"
      ],
      "metadata": {
        "colab": {
          "base_uri": "https://localhost:8080/"
        },
        "id": "v31sthASK0-b",
        "outputId": "dcb75387-7f6a-4ddf-b49c-59903cd26706"
      },
      "execution_count": null,
      "outputs": [
        {
          "output_type": "stream",
          "name": "stdout",
          "text": [
            "Model: \"sequential\"\n",
            "_________________________________________________________________\n",
            " Layer (type)                Output Shape              Param #   \n",
            "=================================================================\n",
            " conv2d (Conv2D)             (None, 254, 254, 32)      896       \n",
            "                                                                 \n",
            " conv2d_1 (Conv2D)           (None, 252, 252, 64)      18496     \n",
            "                                                                 \n",
            " max_pooling2d (MaxPooling2D  (None, 126, 126, 64)     0         \n",
            " )                                                               \n",
            "                                                                 \n",
            " dropout (Dropout)           (None, 126, 126, 64)      0         \n",
            "                                                                 \n",
            " conv2d_2 (Conv2D)           (None, 124, 124, 64)      36928     \n",
            "                                                                 \n",
            " max_pooling2d_1 (MaxPooling  (None, 62, 62, 64)       0         \n",
            " 2D)                                                             \n",
            "                                                                 \n",
            " dropout_1 (Dropout)         (None, 62, 62, 64)        0         \n",
            "                                                                 \n",
            " conv2d_3 (Conv2D)           (None, 60, 60, 128)       73856     \n",
            "                                                                 \n",
            " max_pooling2d_2 (MaxPooling  (None, 30, 30, 128)      0         \n",
            " 2D)                                                             \n",
            "                                                                 \n",
            " dropout_2 (Dropout)         (None, 30, 30, 128)       0         \n",
            "                                                                 \n",
            " flatten (Flatten)           (None, 115200)            0         \n",
            "                                                                 \n",
            " dense (Dense)               (None, 64)                7372864   \n",
            "                                                                 \n",
            " dropout_3 (Dropout)         (None, 64)                0         \n",
            "                                                                 \n",
            " dense_1 (Dense)             (None, 1)                 65        \n",
            "                                                                 \n",
            "=================================================================\n",
            "Total params: 7,503,105\n",
            "Trainable params: 7,503,105\n",
            "Non-trainable params: 0\n",
            "_________________________________________________________________\n"
          ]
        }
      ]
    },
    {
      "cell_type": "code",
      "source": [
        "model.fit_generator(train_data, steps_per_epoch= 8 , epochs =10,\n",
        "                    validation_steps=2, validation_data= test_data\n",
        "                    )"
      ],
      "metadata": {
        "colab": {
          "base_uri": "https://localhost:8080/"
        },
        "id": "NGUTREyhK7U3",
        "outputId": "9b909931-11d3-4b01-9c75-62b64a3049cd"
      },
      "execution_count": null,
      "outputs": [
        {
          "output_type": "stream",
          "name": "stderr",
          "text": [
            "/usr/local/lib/python3.7/dist-packages/ipykernel_launcher.py:2: UserWarning: `Model.fit_generator` is deprecated and will be removed in a future version. Please use `Model.fit`, which supports generators.\n",
            "  \n"
          ]
        },
        {
          "output_type": "stream",
          "name": "stdout",
          "text": [
            "Epoch 1/10\n",
            "8/8 [==============================] - 38s 5s/step - loss: -517.2158 - acc: 0.4397 - val_loss: -3026.5835 - val_acc: 0.4688\n",
            "Epoch 2/10\n",
            "8/8 [==============================] - 34s 4s/step - loss: -21419.3164 - acc: 0.5086 - val_loss: -80709.6719 - val_acc: 0.5000\n",
            "Epoch 3/10\n",
            "8/8 [==============================] - 36s 5s/step - loss: -349724.0000 - acc: 0.4844 - val_loss: -896278.7500 - val_acc: 0.5000\n",
            "Epoch 4/10\n",
            "8/8 [==============================] - 37s 5s/step - loss: -2677521.0000 - acc: 0.4922 - val_loss: -6148934.0000 - val_acc: 0.5000\n",
            "Epoch 5/10\n",
            "8/8 [==============================] - 33s 4s/step - loss: -15236252.0000 - acc: 0.5000 - val_loss: -29141468.0000 - val_acc: 0.5312\n",
            "Epoch 6/10\n",
            "8/8 [==============================] - 33s 4s/step - loss: -61720912.0000 - acc: 0.5086 - val_loss: -118851984.0000 - val_acc: 0.5312\n",
            "Epoch 7/10\n",
            "8/8 [==============================] - 33s 4s/step - loss: -241585824.0000 - acc: 0.4914 - val_loss: -448509696.0000 - val_acc: 0.4688\n",
            "Epoch 8/10\n",
            "8/8 [==============================] - 34s 4s/step - loss: -713577600.0000 - acc: 0.4828 - val_loss: -1180900352.0000 - val_acc: 0.5000\n",
            "Epoch 9/10\n",
            "8/8 [==============================] - 34s 4s/step - loss: -1890497920.0000 - acc: 0.5086 - val_loss: -2717225216.0000 - val_acc: 0.5312\n",
            "Epoch 10/10\n",
            "8/8 [==============================] - 36s 4s/step - loss: -4832554496.0000 - acc: 0.4766 - val_loss: -6394106368.0000 - val_acc: 0.5312\n"
          ]
        },
        {
          "output_type": "execute_result",
          "data": {
            "text/plain": [
              "<keras.callbacks.History at 0x7f8879e11d90>"
            ]
          },
          "metadata": {},
          "execution_count": 10
        }
      ]
    },
    {
      "cell_type": "code",
      "source": [
        "path=\"/content/Dataset/Covid_imgs/1-s2.0-S1684118220300682-main.pdf-002-a2.png\"\n",
        "img = image.load_img(path, target_size=(256,256))\n",
        "img = image.img_to_array(img)/255\n",
        "img = np.array([img])\n",
        "img.shape"
      ],
      "metadata": {
        "colab": {
          "base_uri": "https://localhost:8080/"
        },
        "id": "MmiynucSRjHZ",
        "outputId": "4264e4df-332a-43b9-e7c8-e5e8e0fb44e5"
      },
      "execution_count": null,
      "outputs": [
        {
          "output_type": "execute_result",
          "data": {
            "text/plain": [
              "(1, 256, 256, 3)"
            ]
          },
          "metadata": {},
          "execution_count": 25
        }
      ]
    },
    {
      "cell_type": "code",
      "source": [
        "predictions = (model.predict(img) > 0.5).astype(\"int32\")"
      ],
      "metadata": {
        "id": "Fyajs7dlRsjT"
      },
      "execution_count": null,
      "outputs": []
    },
    {
      "cell_type": "code",
      "source": [
        "predictions"
      ],
      "metadata": {
        "colab": {
          "base_uri": "https://localhost:8080/"
        },
        "id": "KMR4uJGtS392",
        "outputId": "7243cb94-fbf5-41cf-f97b-8831bdb5f83a"
      },
      "execution_count": null,
      "outputs": [
        {
          "output_type": "execute_result",
          "data": {
            "text/plain": [
              "array([[1]], dtype=int32)"
            ]
          },
          "metadata": {},
          "execution_count": 27
        }
      ]
    }
  ]
}